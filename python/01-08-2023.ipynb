{
 "cells": [
  {
   "cell_type": "code",
   "execution_count": 2,
   "metadata": {},
   "outputs": [
    {
     "name": "stdout",
     "output_type": "stream",
     "text": [
      "hello world\n"
     ]
    }
   ],
   "source": [
    "# was tp print \"hello world\"\n",
    "print(\"hello world\")"
   ]
  },
  {
   "cell_type": "code",
   "execution_count": 5,
   "metadata": {},
   "outputs": [
    {
     "name": "stdout",
     "output_type": "stream",
     "text": [
      "50 10.5 b'1010' True (10+5j) hello [10, 20, 30] (20, 34, 56, 'hello') (20, 30, 40) {56, 34, 12} {50: 56, 10.5: 78}\n"
     ]
    }
   ],
   "source": [
    "# was to intialize variable and value as 50\n",
    "a=50\n",
    "b=10.5\n",
    "c=b'1010'\n",
    "d=True\n",
    "e=10+5j\n",
    "f=\"hello\"\n",
    "g=[10,20,30]\n",
    "h=(20,34,56,\"hello\")\n",
    "i=20,30,40\n",
    "j={12,34,56}\n",
    "k={a:56,b:78}\n",
    "print(a,b,c,d,e,f,g,h,i,j,k)"
   ]
  },
  {
   "cell_type": "code",
   "execution_count": 6,
   "metadata": {},
   "outputs": [
    {
     "name": "stdout",
     "output_type": "stream",
     "text": [
      "150\n",
      "120\n",
      "250\n"
     ]
    }
   ],
   "source": [
    "#was to intialize the multi variable values \n",
    "A,B,C=150,120,250\n",
    "print(A)\n",
    "print(B)\n",
    "print(C)\n"
   ]
  },
  {
   "cell_type": "code",
   "execution_count": 11,
   "metadata": {},
   "outputs": [
    {
     "name": "stdout",
     "output_type": "stream",
     "text": [
      "{10, 20}\n"
     ]
    },
    {
     "data": {
      "text/plain": [
       "2777505430016"
      ]
     },
     "execution_count": 11,
     "metadata": {},
     "output_type": "execute_result"
    }
   ],
   "source": [
    "#was to print type of data \n",
    "a={10,20}\n",
    "type(a)\n",
    "print(a)\n",
    "# to kow the address of memory block \n",
    "id(a)"
   ]
  },
  {
   "cell_type": "code",
   "execution_count": 14,
   "metadata": {},
   "outputs": [
    {
     "name": "stdout",
     "output_type": "stream",
     "text": [
      "{'name': 'shirisha', 'education': 'b.tech', 'email': 'ashirishasiri@gmail.com'}\n",
      "b.tech\n"
     ]
    }
   ],
   "source": [
    "# was to print your details \n",
    "siri={'name':'shirisha','education':\"b.tech\",'email':'ashirishasiri@gmail.com'}\n",
    "print(siri)\n",
    "print(siri['education'])"
   ]
  },
  {
   "cell_type": "code",
   "execution_count": 22,
   "metadata": {},
   "outputs": [
    {
     "name": "stdout",
     "output_type": "stream",
     "text": [
      "haii\n",
      "haii\n",
      "bye\n",
      "bye\n",
      "haii\n"
     ]
    }
   ],
   "source": [
    "#was to swap the two values with temp variable\n",
    "x='haii'\n",
    "y='bye'\n",
    "temp=x       # x value loaded into the temp\n",
    "print(temp) \n",
    "print(x) \n",
    "x=y          # y value loaded into the x . x value replace by y value \n",
    "print(x) \n",
    "y=temp      # temp value loaded into y . y value replace with temp value \n",
    "print(x)\n",
    "print(y)\n"
   ]
  },
  {
   "cell_type": "markdown",
   "metadata": {},
   "source": [
    " when ever we want to swap two numbers   1st we load the values into one tempaory variable \n",
    " without temp variables also we can do  by using the multi variable concept \n"
   ]
  },
  {
   "cell_type": "code",
   "execution_count": 26,
   "metadata": {},
   "outputs": [
    {
     "name": "stdout",
     "output_type": "stream",
     "text": [
      "{10, 20}\n",
      "[10, 20]\n",
      "20\n",
      "10\n"
     ]
    }
   ],
   "source": [
    "#was to swap the variables with out temp variable \n",
    " # by using multi  variable concept\n",
    "# multi values DT\n",
    "m=[10,20]\n",
    "n={10,20}\n",
    "m,n=n,m\n",
    "print(m)\n",
    "print(n)\n",
    "# single values \n",
    "a=10\n",
    "b=20\n",
    "a,b=b,a \n",
    "print(a)\n",
    "print(b)"
   ]
  },
  {
   "cell_type": "code",
   "execution_count": 43,
   "metadata": {},
   "outputs": [
    {
     "name": "stdout",
     "output_type": "stream",
     "text": [
      "python\n",
      "shirisha\n",
      "{'name': 'shirisha', 'age': 22}\n",
      "{'age': 22}\n"
     ]
    }
   ],
   "source": [
    "#was to intilalizeba value and print the values after print the reinitialize the new value to the  existing  variable and dispaly the value \n",
    "# initialization \n",
    "a={ 'name' :\"python\"}\n",
    "#fetch\n",
    "print(a['name'])\n",
    "#reinitialization \n",
    "a['name']='shirisha'\n",
    "print(a['name'])\n",
    "#concatination\n",
    "a['age']=22\n",
    "print(a)\n",
    "#deleting\n",
    "del a['name']\n",
    "print(a)\n"
   ]
  },
  {
   "cell_type": "code",
   "execution_count": 56,
   "metadata": {},
   "outputs": [
    {
     "name": "stdout",
     "output_type": "stream",
     "text": [
      "['1', '0']\n"
     ]
    },
    {
     "data": {
      "text/plain": [
       "list"
      ]
     },
     "execution_count": 56,
     "metadata": {},
     "output_type": "execute_result"
    }
   ],
   "source": [
    "#was to convert single to multi value data type \n",
    "# i/p= a=10\n",
    "# o/p=['1','0']\n",
    "\n",
    "a=10\n",
    "print(list(str(a)))\n",
    "#['1', '0']\n",
    "type( list(str(a)))\n",
    "\n"
   ]
  },
  {
   "cell_type": "code",
   "execution_count": 3,
   "metadata": {},
   "outputs": [
    {
     "name": "stdout",
     "output_type": "stream",
     "text": [
      "rajarani\n",
      "[10, 20, 30, 40]\n"
     ]
    }
   ],
   "source": [
    "# was to concat the two multi value databtype(str,list,tuple,set,dict)\n",
    "# for string\n",
    "a= \"raja\"\n",
    "a+=\"rani\"\n",
    "print (a)\n",
    "# for list \n",
    "x=[10,20]\n",
    "x+=[30,40]\n",
    "print(x)\n",
    "\n"
   ]
  },
  {
   "cell_type": "code",
   "execution_count": 6,
   "metadata": {},
   "outputs": [
    {
     "name": "stdout",
     "output_type": "stream",
     "text": [
      "8\n",
      "4\n"
     ]
    },
    {
     "ename": "TypeError",
     "evalue": "object of type 'int' has no len()",
     "output_type": "error",
     "traceback": [
      "\u001b[1;31m---------------------------------------------------------------------------\u001b[0m",
      "\u001b[1;31mTypeError\u001b[0m                                 Traceback (most recent call last)",
      "Cell \u001b[1;32mIn[6], line 8\u001b[0m\n\u001b[0;32m      6\u001b[0m \u001b[39mprint\u001b[39m(\u001b[39mlen\u001b[39m(c))\n\u001b[0;32m      7\u001b[0m d\u001b[39m=\u001b[39m\u001b[39m19\u001b[39m \n\u001b[1;32m----> 8\u001b[0m \u001b[39mlen\u001b[39;49m(d)\n",
      "\u001b[1;31mTypeError\u001b[0m: object of type 'int' has no len()"
     ]
    }
   ],
   "source": [
    "# was to check the length of the  collection \n",
    "a='shirisha'\n",
    "print(len(a))\n",
    " # the length function only  doesn't support the primitive data typesdata types  except \"bytes data type \"\n",
    "c=b'1010'\n",
    "print(len(c))\n",
    "d=19   # int  DT doesn't support\n",
    "len(d)"
   ]
  },
  {
   "cell_type": "code",
   "execution_count": 11,
   "metadata": {},
   "outputs": [
    {
     "name": "stdout",
     "output_type": "stream",
     "text": [
      "5\n",
      "2\n",
      "2\n"
     ]
    }
   ],
   "source": [
    "# was to find out the  middle  values of the given collection\n",
    "\n",
    "a=\"hello\"\n",
    "print(len(a))\n",
    "print(len(a)//2) # we get accurate value  only for the odd no.of char present in the colletion\n",
    "b=\"haii\"\n",
    "print(len(b)//2)"
   ]
  },
  {
   "cell_type": "code",
   "execution_count": 25,
   "metadata": {},
   "outputs": [
    {
     "name": "stdout",
     "output_type": "stream",
     "text": [
      "hello world\n",
      "1847814202032\n",
      "helloman\n",
      "1847840950320\n"
     ]
    }
   ],
   "source": [
    "# WAs to cancat the new  string  into the  starting of the  given string \n",
    "a=\" world\"\n",
    "#print(id(a))    # address will  change \n",
    "a=\"hello\"+a \n",
    "print(a)\n",
    "#print(id(a))\n",
    "# WAs to cancat the new  string  into the  ending  of the  given string\n",
    "b=\"hello\"\n",
    "print(id(b))\n",
    "b+=\"man\"\n",
    "print(b)\n",
    "print(id(b))\n",
    "# WAs to cancat the new  string  into the middle of the  given string\n",
    "ssssssss\n",
    "\n",
    "\n"
   ]
  },
  {
   "cell_type": "code",
   "execution_count": null,
   "metadata": {},
   "outputs": [],
   "source": []
  }
 ],
 "metadata": {
  "kernelspec": {
   "display_name": "Python 3",
   "language": "python",
   "name": "python3"
  },
  "language_info": {
   "codemirror_mode": {
    "name": "ipython",
    "version": 3
   },
   "file_extension": ".py",
   "mimetype": "text/x-python",
   "name": "python",
   "nbconvert_exporter": "python",
   "pygments_lexer": "ipython3",
   "version": "3.11.3"
  },
  "orig_nbformat": 4
 },
 "nbformat": 4,
 "nbformat_minor": 2
}
