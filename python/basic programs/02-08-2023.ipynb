{
 "cells": [
  {
   "cell_type": "code",
   "execution_count": 5,
   "metadata": {},
   "outputs": [
    {
     "name": "stdout",
     "output_type": "stream",
     "text": [
      "shirisha\n"
     ]
    }
   ],
   "source": [
    "#WAS to concate new  string into the middle of the given string \n",
    "s='sirisha'\n",
    "s= s[:1]+'h'+s[1:]\n",
    "print(s)"
   ]
  },
  {
   "cell_type": "code",
   "execution_count": 21,
   "metadata": {},
   "outputs": [
    {
     "name": "stdout",
     "output_type": "stream",
     "text": [
      "3\n",
      "shieish\n"
     ]
    }
   ],
   "source": [
    "#WAS to modify the new charcter into the middle of the  string \n",
    "s='shirish'\n",
    "print(len(s)//2)\n",
    "s=s[0:len(s)//2]+'e'+s[len(s)//2+1:]\n",
    "print(s)"
   ]
  },
  {
   "cell_type": "code",
   "execution_count": 26,
   "metadata": {},
   "outputs": [
    {
     "name": "stdout",
     "output_type": "stream",
     "text": [
      "3\n",
      "shieeish\n"
     ]
    }
   ],
   "source": [
    "#WAS to modify the  sequence of charcter into the middle of the  string \n",
    "s='shirish'\n",
    "print(len(s)//2)\n",
    "s=s[0:len(s)//2]+'ee'+s[len(s)//2+1:]\n",
    "print(s)"
   ]
  }
 ],
 "metadata": {
  "kernelspec": {
   "display_name": "Python 3",
   "language": "python",
   "name": "python3"
  },
  "language_info": {
   "codemirror_mode": {
    "name": "ipython",
    "version": 3
   },
   "file_extension": ".py",
   "mimetype": "text/x-python",
   "name": "python",
   "nbconvert_exporter": "python",
   "pygments_lexer": "ipython3",
   "version": "3.11.3"
  },
  "orig_nbformat": 4
 },
 "nbformat": 4,
 "nbformat_minor": 2
}
