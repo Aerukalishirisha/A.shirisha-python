{
 "cells": [
  {
   "cell_type": "markdown",
   "metadata": {},
   "source": [
    " --it  is a decisional stmt  . it will verify the condition is true or false \n",
    " -- if decision is  true the controller will go TRUE STMT BLOCK and excuted[TSB]\n",
    " --if decision is false  the controller will excute the false stmt block[FSB]\n",
    " --  when ever we have one decision and two differnt task then we have to use if else stmt \n",
    " note:\n",
    " else is a false stmt block and it is a optional block\n",
    " flow chat:\n",
    "               start\n",
    "               stmt\n",
    "fsb--false-- condition--true-- tsb\n",
    "              stmt \n",
    "              stop\n",
    "syntax:\n",
    " print(\"start\")\n",
    " if <condition/expression>:\n",
    "    tsb\n",
    "else:\n",
    "     fsb\n",
    "note:\n",
    " if and else are key words     \n"
   ]
  },
  {
   "cell_type": "code",
   "execution_count": 3,
   "metadata": {},
   "outputs": [
    {
     "name": "stdout",
     "output_type": "stream",
     "text": [
      "negative\n"
     ]
    }
   ],
   "source": [
    "# 1. WAP to check whether a number is positive or negative. If Positive print positive message or else print Negative Number.\n",
    "n=-10\n",
    "if(n>=0):\n",
    "    print(\"positive\")\n",
    "else:\n",
    "    print(\"negative\")    "
   ]
  },
  {
   "cell_type": "code",
   "execution_count": 6,
   "metadata": {},
   "outputs": [
    {
     "name": "stdout",
     "output_type": "stream",
     "text": [
      "odd\n"
     ]
    }
   ],
   "source": [
    "# 2.WAP to check whether a number is even or odd. If even, print message an even or else print message as odd.\n",
    "a=7\n",
    "if(a%2==0):\n",
    "    print(\"even\")\n",
    "else:\n",
    "    print(\"odd\")\n"
   ]
  },
  {
   "cell_type": "code",
   "execution_count": 9,
   "metadata": {},
   "outputs": [
    {
     "name": "stdout",
     "output_type": "stream",
     "text": [
      "2 not a greaterthan 10\n"
     ]
    }
   ],
   "source": [
    "#3.Write a program to check whether a given number is greater than 10 or not. if it is greater than 10 print message as greater or else print that number with not a greater than.\n",
    "a=2\n",
    "if(a>10):\n",
    "    print(\"greaterthan 10\")\n",
    "else:\n",
    "    print(a,\"not a greaterthan 10\")"
   ]
  },
  {
   "cell_type": "code",
   "execution_count": 14,
   "metadata": {},
   "outputs": [
    {
     "name": "stdout",
     "output_type": "stream",
     "text": [
      "good evening\n"
     ]
    }
   ],
   "source": [
    "#4. WAP to check whether the given two input numbers are divisible by 3 and 5. If it is divisible, print “Good Morning”, if it is not divisible print “Good Evening”.\n",
    "a=32\n",
    "b=85\n",
    "if((a%3==0 and b%5==0 )and(a%3==0 and b%5==0)):\n",
    "    print(\"good moring\")\n",
    "else:\n",
    "    print(\"good evening\")"
   ]
  },
  {
   "cell_type": "code",
   "execution_count": null,
   "metadata": {},
   "outputs": [],
   "source": [
    "#5.WAP to accept two integers and check whether those two values are equal or not. If equal, multiply to value or else to display the quotation value."
   ]
  },
  {
   "cell_type": "code",
   "execution_count": 17,
   "metadata": {},
   "outputs": [
    {
     "name": "stdout",
     "output_type": "stream",
     "text": [
      "20 largest\n"
     ]
    }
   ],
   "source": [
    "# 6.WAP to find the largest of two numbers\n",
    "a=10\n",
    "b=20\n",
    "if(a>b):\n",
    "    print(a ,\"largest \")\n",
    "else:\n",
    "    print(b,\"largest\")"
   ]
  },
  {
   "cell_type": "code",
   "execution_count": 20,
   "metadata": {},
   "outputs": [
    {
     "name": "stdout",
     "output_type": "stream",
     "text": [
      "9\n"
     ]
    }
   ],
   "source": [
    "# 7.WAP to check whether the input number is greater than 10 or not if it is greater than 10 print messages as greater with number. if it is not a greater than 10 print that number.\n",
    "a=9\n",
    "if(a>10):\n",
    "    print(\"greater\",a)\n",
    "else:\n",
    "    print(a)"
   ]
  },
  {
   "cell_type": "code",
   "execution_count": null,
   "metadata": {},
   "outputs": [],
   "source": [
    "# 8.WAP to the given number integer, if n is greater than 21,print the absolute difference between n and 21 otherwise print twice the absolute difference."
   ]
  },
  {
   "cell_type": "code",
   "execution_count": 21,
   "metadata": {},
   "outputs": [
    {
     "name": "stdout",
     "output_type": "stream",
     "text": [
      "8 smallest\n"
     ]
    }
   ],
   "source": [
    "# 9.WAP to find the smallest of two numbers.\n",
    "a=20\n",
    "b=8\n",
    "if(a<b):\n",
    "    print(a,\"smallest\")\n",
    "else:\n",
    "    print(b,\"smallest\")"
   ]
  },
  {
   "cell_type": "code",
   "execution_count": 23,
   "metadata": {},
   "outputs": [
    {
     "name": "stdout",
     "output_type": "stream",
     "text": [
      "53\n"
     ]
    }
   ],
   "source": [
    "# 10.WAP to check whether the given number is even or odd. If it is even then make it as an add number, if it is an odd number then make it as even number.\n",
    "a=52\n",
    "if(a%2==0):\n",
    "    print(a+1)\n",
    "else:\n",
    "    print(a-1)"
   ]
  },
  {
   "cell_type": "code",
   "execution_count": 25,
   "metadata": {},
   "outputs": [
    {
     "name": "stdout",
     "output_type": "stream",
     "text": [
      "8\n"
     ]
    }
   ],
   "source": [
    "# 11.WAP to check whether the given number is divisible by 3 or not if yes, print the number or else print the cube of the numbers.\n",
    "a=2\n",
    "if(a%3==0):\n",
    "    print(a)\n",
    "else:\n",
    "    print(a**3)"
   ]
  },
  {
   "cell_type": "code",
   "execution_count": 45,
   "metadata": {},
   "outputs": [
    {
     "name": "stdout",
     "output_type": "stream",
     "text": [
      "<class 'str'>\n",
      "27\n"
     ]
    }
   ],
   "source": [
    "# 12.WAP to check whether the given input is divisible by 3 and 5. If yes print the actual number or else print string of that number.\n",
    "a=27\n",
    "if(a%3==0 and a%5==0):\n",
    "    print(a,\"actual vale\")\n",
    "else:\n",
    "    b=str(a)\n",
    "    print(type(b))\n",
    "    print(b)\n"
   ]
  },
  {
   "cell_type": "code",
   "execution_count": 47,
   "metadata": {},
   "outputs": [
    {
     "name": "stdout",
     "output_type": "stream",
     "text": [
      "8000 20\n"
     ]
    }
   ],
   "source": [
    "# 13.WAP to check whether the given number lies between 1 to 19, if it is true square that number or else false cube that number and display the number.\n",
    "a=20\n",
    "if(a<=1 and a<=19):\n",
    "    print(a**2,a)\n",
    "else:\n",
    "    print(a**3,a)\n",
    " "
   ]
  },
  {
   "cell_type": "code",
   "execution_count": 50,
   "metadata": {},
   "outputs": [
    {
     "name": "stdout",
     "output_type": "stream",
     "text": [
      "fail 35\n"
     ]
    }
   ],
   "source": [
    "#14.WAP to check whether the student has passed or failed. If the student got more than 40 marks, print ‘PASS’ along with those marks, if it is not printed ‘FAIL’ along with those marks\n",
    "marks=35\n",
    "if(marks>40):\n",
    "    print(\"pass\",marks)\n",
    "else:\n",
    "    print(\"fail\",marks)"
   ]
  },
  {
   "cell_type": "code",
   "execution_count": 61,
   "metadata": {},
   "outputs": [
    {
     "name": "stdout",
     "output_type": "stream",
     "text": [
      "9\n"
     ]
    }
   ],
   "source": [
    "# 15.WAP to check whether a given value is even and in range of 47 to 58 and not in 0 or odd. if condition is True, to perform display the ascii character. or else to perform floor division with 5 and display it.\n",
    "a=48\n",
    "if(a%2==0 and a<=47 and a<58 and (a!=0 or a%2!=0)):\n",
    "     b=chr(a)\n",
    "     print(b)\n",
    "else:\n",
    "     c=a//5                 #############\n",
    "     print(c)"
   ]
  },
  {
   "cell_type": "code",
   "execution_count": 69,
   "metadata": {},
   "outputs": [
    {
     "name": "stdout",
     "output_type": "stream",
     "text": [
      "[10, 20, 127]\n"
     ]
    }
   ],
   "source": [
    "# 16.WAP to check whether a given value is less than 125 and in between 47 to 125 or not. if condition is True, to perform store the given value as key and value as a character into the dict or else to append the value in list and display it.\n",
    "a=127\n",
    "if(a<125 and a<47 and a<125 ):\n",
    "    b={'v':10}\n",
    "    b['a']=chr(a)\n",
    "    print(b)\n",
    "else:\n",
    "    c=[10,20]\n",
    "    c+=[a]\n",
    "    print(c)\n"
   ]
  },
  {
   "cell_type": "code",
   "execution_count": 74,
   "metadata": {},
   "outputs": [
    {
     "name": "stdout",
     "output_type": "stream",
     "text": [
      "& is nor alphabet\n"
     ]
    }
   ],
   "source": [
    "# 17.WAP to check whether a given character is in the alphabet or not. if alphabet, display the alphabet with character or else display the not alphabet with character.\n",
    "a='&'\n",
    "if('A'<=a<='Z'  or 'a'<=a<='z'):\n",
    "    print(a,\"alphabet\")\n",
    "else:\n",
    "    print(a,\"is nor alphabet\")\n"
   ]
  },
  {
   "cell_type": "code",
   "execution_count": null,
   "metadata": {},
   "outputs": [],
   "source": [
    "#18.WAP to check whether a given character is uppercase or other character. if uppercase, display the uppercase with character or else display the other character with character.\n",
    "a=w\n",
    "if('A'<=a<='Z'):\n",
    "    print(a,\"uppercase\")\n",
    "else:\n",
    "    print()               ###############"
   ]
  },
  {
   "cell_type": "code",
   "execution_count": null,
   "metadata": {},
   "outputs": [],
   "source": [
    "#19.WAP to check whether a given character is lowercase or other character. if lowercase, display the lowercase with character or else display the other character with character\n"
   ]
  },
  {
   "cell_type": "code",
   "execution_count": null,
   "metadata": {},
   "outputs": [],
   "source": [
    "# 20.WAP to check whether a given character is uppercase or other character. if uppercase, convert to lowercase .or else display the ascii number."
   ]
  },
  {
   "cell_type": "code",
   "execution_count": 88,
   "metadata": {},
   "outputs": [
    {
     "name": "stdout",
     "output_type": "stream",
     "text": [
      "a\n"
     ]
    }
   ],
   "source": [
    "#21.WAP to check whether the given character is in lowercase or uppercase. If it is in lowercase, convert it into uppercase, or else it is in uppercase and convert it into lowercase. Display the value.\n",
    "g='A'\n",
    "if('a'<=g<='z'):\n",
    "    print(g.upper()) #chr(ord(g)-32\n",
    "else:\n",
    "    a=chr(ord(g)+32) # print(g.lower())\n",
    "    print(a)"
   ]
  },
  {
   "cell_type": "code",
   "execution_count": null,
   "metadata": {},
   "outputs": [],
   "source": [
    "#22."
   ]
  }
 ],
 "metadata": {
  "kernelspec": {
   "display_name": "Python 3",
   "language": "python",
   "name": "python3"
  },
  "language_info": {
   "codemirror_mode": {
    "name": "ipython",
    "version": 3
   },
   "file_extension": ".py",
   "mimetype": "text/x-python",
   "name": "python",
   "nbconvert_exporter": "python",
   "pygments_lexer": "ipython3",
   "version": "3.11.3"
  },
  "orig_nbformat": 4
 },
 "nbformat": 4,
 "nbformat_minor": 2
}
