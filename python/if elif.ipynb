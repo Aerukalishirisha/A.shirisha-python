{
 "cells": [
  {
   "cell_type": "markdown",
   "metadata": {},
   "source": [
    " if elif:\n",
    " -- it is a decisional stmt , it contain more tha  one conditional stmts \n",
    " -- if condition is not satisfied that particualar associate block of code is excuted\n",
    " --if condition is not satisfied then the controller will on to another condition ( either elif or else )\n",
    "  floww chat:\n",
    "   \n"
   ]
  },
  {
   "cell_type": "code",
   "execution_count": 13,
   "metadata": {},
   "outputs": [
    {
     "name": "stdout",
     "output_type": "stream",
     "text": [
      "57\n",
      "2\n"
     ]
    }
   ],
   "source": [
    "#  wap to check whether given character is alphabet or ascii number or special char .if it is alphabet to conacat value inside the dict as a kru and value as a ascii value \n",
    "#if given char is ascii number to perform bitwise right shift with 2 if it is special char to perform floor division with 10\n",
    "ch='9'\n",
    "if('A'<=ch<='z'or 'a'<=ch<='z'):\n",
    "    a={'a':10}\n",
    "    a[ch]=ord(ch)\n",
    "    print(a)\n",
    "elif('0'<=ch<='9'):\n",
    "    #b=ord(ch)>>2\n",
    "    b=int(ch)>>2\n",
    "    print(ord(ch))\n",
    "    print(b)\n",
    "else:\n",
    "    print(ord(ch)//10)\n",
    "    print(ord(ch))"
   ]
  },
  {
   "cell_type": "code",
   "execution_count": 15,
   "metadata": {},
   "outputs": [
    {
     "name": "stdout",
     "output_type": "stream",
     "text": [
      "5\n"
     ]
    }
   ],
   "source": [
    "#wap to chewck given user id & password is authenticated or not id authenticated to dispaly user details  or else invaild user\n",
    "x=int(input())\n",
    "y=int(input())\n",
    "print(x+y)"
   ]
  }
 ],
 "metadata": {
  "kernelspec": {
   "display_name": "Python 3",
   "language": "python",
   "name": "python3"
  },
  "language_info": {
   "codemirror_mode": {
    "name": "ipython",
    "version": 3
   },
   "file_extension": ".py",
   "mimetype": "text/x-python",
   "name": "python",
   "nbconvert_exporter": "python",
   "pygments_lexer": "ipython3",
   "version": "3.11.3"
  },
  "orig_nbformat": 4
 },
 "nbformat": 4,
 "nbformat_minor": 2
}
