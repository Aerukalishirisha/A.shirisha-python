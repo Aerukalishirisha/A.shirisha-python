{
 "cells": [
  {
   "cell_type": "code",
   "execution_count": 15,
   "metadata": {},
   "outputs": [
    {
     "name": "stdout",
     "output_type": "stream",
     "text": [
      "RAJAranvijay\n"
     ]
    }
   ],
   "source": [
    "#WRITE A INDEX CODE TO EXTRACT\n",
    "#G = ([1,2,3,45], (\"raja\"), [10,20, (30)], [\"vinay\",450, {11,11}, (50)])\n",
    "#O/p: 'RAJAranvijay\n",
    "G = ([1,2,3,45], (\"raja\"), [10,20, (30)], [\"vinay\",450, {11,11}, (50)])\n",
    "print(G[1].upper()+G[1][0:2]+G[-1][0][2]+G[-1][0][0:2]+G[1][2]+G[-1][0][3:5])\n"
   ]
  },
  {
   "cell_type": "code",
   "execution_count": 36,
   "metadata": {},
   "outputs": [
    {
     "name": "stdout",
     "output_type": "stream",
     "text": [
      "A\n"
     ]
    }
   ],
   "source": [
    "#WAP to check whether a given character is alphabet or not,\n",
    "#if alphabet to check the given alphabet character is uppercase or not,\n",
    "#if uppercase, to check vowel or not, if vowel to display the next character of given \n",
    "#character, if lowercase, to convert to uppercase and display the character,\n",
    "#or else the given character is not an alphabet, then to check if the given character \n",
    "#is an ascii number or special character, and display the result.\n",
    "ch='a'\n",
    "if ('A'<=ch<='z'or 'a'<=ch<='z'):\n",
    "    if('A'<=ch<='Z'):\n",
    "        if (ch=='A'):\n",
    "            print(chr(ord(ch)+1))\n",
    "    else:\n",
    "        print(chr(ord(ch)-32))\n",
    "elif ('0'<=ch<='9'):\n",
    "     print('it is a ascii number')\n",
    "else:\n",
    "    print(\"it is a spl char\")"
   ]
  },
  {
   "cell_type": "code",
   "execution_count": 40,
   "metadata": {},
   "outputs": [
    {
     "name": "stdout",
     "output_type": "stream",
     "text": [
      "1386.0\n"
     ]
    }
   ],
   "source": [
    "#WAP to check whether the given number is even or odd,\n",
    "#if even, to check whether given value is divisible by 4 or not, if divisible, to display \n",
    "#he square of the number, if number is odd, to check whether given number is \n",
    "#divisible by 3 and 7 or not,\n",
    "#f the condition is satisfied, display the area of the circle.\n",
    "ch=21\n",
    "if (ch%2==0):\n",
    "    if(ch%4==0):\n",
    "        print(ch**2)\n",
    "else:\n",
    "    if (ch%3==0 and ch%7==0):\n",
    "        print(22/7*(ch**2))\n",
    "              "
   ]
  },
  {
   "cell_type": "code",
   "execution_count": 52,
   "metadata": {},
   "outputs": [
    {
     "name": "stdout",
     "output_type": "stream",
     "text": [
      "3.0\n"
     ]
    }
   ],
   "source": [
    "#WAP to check whether a given value is a int or float or string or other, if int, given \n",
    "#value division by 5 and display the quotient,\n",
    "#f float, perform the bitwise or operation with 15, if string, extract for last position \n",
    "#value and store it in first positions of the string, else store the value in the list and \n",
    "#display the result\n",
    "\n",
    "ch=15\n",
    "if type(ch)==int:\n",
    "    print(ch/5)\n",
    "elif type(ch)==float:\n",
    "    a=ch&15.0           # the bit wise operaters suppoerts  only foe integers and  set data types \n",
    "    print(a)\n",
    "elif type(ch)==str:\n",
    "    print(ch[-1])\n",
    "else:\n",
    "    b=[]\n",
    "    b+=[ch]\n",
    "    print(b)"
   ]
  },
  {
   "cell_type": "code",
   "execution_count": 62,
   "metadata": {},
   "outputs": [
    {
     "name": "stdout",
     "output_type": "stream",
     "text": [
      "fail\n"
     ]
    }
   ],
   "source": [
    "#WAP to check whether a given percentage is which grade and display grade.\n",
    "#note.(first grade, second grade, third grade, fail) by using match case\n",
    "a=38\n",
    "match a:\n",
    "    case a if 75<=a<=100:\n",
    "        print('first grade')\n",
    "    case a if a>=60 and a<=74:\n",
    "        print('second grade')\n",
    "    case a if 45<=a<=59:\n",
    "        print('third class')\n",
    "    case _:\n",
    "        print('fail')"
   ]
  },
  {
   "cell_type": "code",
   "execution_count": null,
   "metadata": {},
   "outputs": [],
   "source": [
    "#QUESTION:\n",
    "#D = [{\"RAJA\": {'s': 'sagar', 'a': 'ajay', 'S': {\"raja\",'sahil'}}, [[100, 200, (300)],500,'ranvijay', \n",
    "#(100,'vijay', [10000,20000])], {(10, (20,))}]\n",
    "#by slicing and type casting:\n",
    "#O/p: [10000, 20000, 100, 200, (300,),’yajivnar’,’yajasagar’,’lha’]"
   ]
  }
 ],
 "metadata": {
  "kernelspec": {
   "display_name": "Python 3",
   "language": "python",
   "name": "python3"
  },
  "language_info": {
   "codemirror_mode": {
    "name": "ipython",
    "version": 3
   },
   "file_extension": ".py",
   "mimetype": "text/x-python",
   "name": "python",
   "nbconvert_exporter": "python",
   "pygments_lexer": "ipython3",
   "version": "3.11.3"
  },
  "orig_nbformat": 4
 },
 "nbformat": 4,
 "nbformat_minor": 2
}
